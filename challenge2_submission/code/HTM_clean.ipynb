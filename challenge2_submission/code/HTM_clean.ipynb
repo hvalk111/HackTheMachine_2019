{
 "cells": [
  {
   "cell_type": "code",
   "execution_count": 1,
   "metadata": {},
   "outputs": [],
   "source": [
    "import pandas as pd\n",
    "import numpy as np`"
   ]
  },
  {
   "cell_type": "markdown",
   "metadata": {},
   "source": [
    "Reading in maintenance actions dataset"
   ]
  },
  {
   "cell_type": "code",
   "execution_count": 5,
   "metadata": {
    "scrolled": true
   },
   "outputs": [],
   "source": [
    "maf_actions = pd.read_csv(\"../raw/HtM_MAF Data_Final.csv\", \n",
    "                         dtype = {'Transaction Code': str,\n",
    "                                 'Aircraft': 'category',\n",
    "                                 'Transaction Code': 'category',\n",
    "                                 'Malfunction Code': 'category',\n",
    "                                 'Action Taken Code': 'category'})"
   ]
  },
  {
   "cell_type": "markdown",
   "metadata": {},
   "source": [
    "Many rows appear to have NaN in every column: dropping those rows"
   ]
  },
  {
   "cell_type": "code",
   "execution_count": 6,
   "metadata": {},
   "outputs": [],
   "source": [
    "maf_actions.dropna(how = 'all', inplace=True)"
   ]
  },
  {
   "cell_type": "markdown",
   "metadata": {},
   "source": [
    "Conveting Bare Metal, Prevention Corrosion Treatment, Routine, Unscheduled, Mission Related Maintenance, Failure to boolean T/F"
   ]
  },
  {
   "cell_type": "code",
   "execution_count": 7,
   "metadata": {},
   "outputs": [],
   "source": [
    "maf_actions['Corrosion'] = maf_actions['Corrosion'] == 'Yes'\n",
    "\n",
    "maf_actions['Bare Metal'] = maf_actions['Bare Metal'] == 'Yes'\n",
    "\n",
    "maf_actions['Corrosion Prevention Treatment'] = maf_actions['Corrosion Prevention Treatment'] == 'Yes'\n",
    "\n",
    "maf_actions['Routine Maintenance'] = maf_actions['Routine Maintenance'] == 'Yes'\n",
    "\n",
    "maf_actions['Unscheduled Maintenance'] = maf_actions['Unscheduled Maintenance'] == 'Yes'\n",
    "\n",
    "maf_actions['Mission-Related Maintenance'] = maf_actions['Mission-Related Maintenance'] == 'Yes'\n",
    "\n",
    "maf_actions['Failure'] = maf_actions['Failure'] == 'Yes'"
   ]
  },
  {
   "cell_type": "markdown",
   "metadata": {},
   "source": [
    "Convert Received Date and Completion Date to datetime"
   ]
  },
  {
   "cell_type": "code",
   "execution_count": 8,
   "metadata": {},
   "outputs": [],
   "source": [
    "maf_actions['Received Date'] = pd.to_datetime(maf_actions['Received Date'])\n",
    "\n",
    "maf_actions['Completion Date'] = pd.to_datetime(maf_actions['Completion Date'])"
   ]
  },
  {
   "cell_type": "code",
   "execution_count": 10,
   "metadata": {},
   "outputs": [
    {
     "data": {
      "text/plain": [
       "Job Code                                  object\n",
       "Aircraft                                category\n",
       "Transaction Code                        category\n",
       "Malfunction Code                        category\n",
       "Action Taken Code                       category\n",
       "Description of Problem                    object\n",
       "Correction of Problem                     object\n",
       "Received Date                     datetime64[ns]\n",
       "Completion Date                   datetime64[ns]\n",
       "Corrosion                                   bool\n",
       "Bare Metal                                  bool\n",
       "Corrosion Prevention Treatment              bool\n",
       "Routine Maintenance                         bool\n",
       "Unscheduled Maintenance                     bool\n",
       "Mission-Related Maintenance                 bool\n",
       "Failure                                     bool\n",
       "dtype: object"
      ]
     },
     "execution_count": 10,
     "metadata": {},
     "output_type": "execute_result"
    }
   ],
   "source": [
    "maf_actions.dtypes"
   ]
  },
  {
   "cell_type": "code",
   "execution_count": 11,
   "metadata": {},
   "outputs": [
    {
     "data": {
      "text/html": [
       "<div>\n",
       "<style scoped>\n",
       "    .dataframe tbody tr th:only-of-type {\n",
       "        vertical-align: middle;\n",
       "    }\n",
       "\n",
       "    .dataframe tbody tr th {\n",
       "        vertical-align: top;\n",
       "    }\n",
       "\n",
       "    .dataframe thead th {\n",
       "        text-align: right;\n",
       "    }\n",
       "</style>\n",
       "<table border=\"1\" class=\"dataframe\">\n",
       "  <thead>\n",
       "    <tr style=\"text-align: right;\">\n",
       "      <th></th>\n",
       "      <th>Job Code</th>\n",
       "      <th>Aircraft</th>\n",
       "      <th>Transaction Code</th>\n",
       "      <th>Malfunction Code</th>\n",
       "      <th>Action Taken Code</th>\n",
       "      <th>Description of Problem</th>\n",
       "      <th>Correction of Problem</th>\n",
       "      <th>Received Date</th>\n",
       "      <th>Completion Date</th>\n",
       "      <th>Corrosion</th>\n",
       "      <th>Bare Metal</th>\n",
       "      <th>Corrosion Prevention Treatment</th>\n",
       "      <th>Routine Maintenance</th>\n",
       "      <th>Unscheduled Maintenance</th>\n",
       "      <th>Mission-Related Maintenance</th>\n",
       "      <th>Failure</th>\n",
       "    </tr>\n",
       "  </thead>\n",
       "  <tbody>\n",
       "    <tr>\n",
       "      <th>0</th>\n",
       "      <td>29L1HRLP65324239</td>\n",
       "      <td>1</td>\n",
       "      <td>11</td>\n",
       "      <td>000</td>\n",
       "      <td>0</td>\n",
       "      <td>Perform a periodic inspection</td>\n",
       "      <td>Completed the inspection</td>\n",
       "      <td>2012-11-19</td>\n",
       "      <td>2012-11-26</td>\n",
       "      <td>False</td>\n",
       "      <td>False</td>\n",
       "      <td>False</td>\n",
       "      <td>True</td>\n",
       "      <td>False</td>\n",
       "      <td>False</td>\n",
       "      <td>False</td>\n",
       "    </tr>\n",
       "    <tr>\n",
       "      <th>1</th>\n",
       "      <td>29L1G6WP65246270</td>\n",
       "      <td>1</td>\n",
       "      <td>11</td>\n",
       "      <td>000</td>\n",
       "      <td>0</td>\n",
       "      <td>Perform corrosion prevention treatment on the ...</td>\n",
       "      <td>Performed corrosion prevention</td>\n",
       "      <td>2012-09-02</td>\n",
       "      <td>2012-09-03</td>\n",
       "      <td>False</td>\n",
       "      <td>False</td>\n",
       "      <td>True</td>\n",
       "      <td>False</td>\n",
       "      <td>False</td>\n",
       "      <td>False</td>\n",
       "      <td>False</td>\n",
       "    </tr>\n",
       "    <tr>\n",
       "      <th>2</th>\n",
       "      <td>29L1MVAP65126453</td>\n",
       "      <td>1</td>\n",
       "      <td>11</td>\n",
       "      <td>000</td>\n",
       "      <td>0</td>\n",
       "      <td>Perform a periodic inspection</td>\n",
       "      <td>Completed the inspection</td>\n",
       "      <td>2013-05-06</td>\n",
       "      <td>2013-05-19</td>\n",
       "      <td>False</td>\n",
       "      <td>False</td>\n",
       "      <td>False</td>\n",
       "      <td>True</td>\n",
       "      <td>False</td>\n",
       "      <td>False</td>\n",
       "      <td>False</td>\n",
       "    </tr>\n",
       "    <tr>\n",
       "      <th>3</th>\n",
       "      <td>3MNC6U7P6G277488</td>\n",
       "      <td>1</td>\n",
       "      <td>11</td>\n",
       "      <td>381</td>\n",
       "      <td>C</td>\n",
       "      <td>A system, component, part, or surface on the a...</td>\n",
       "      <td>Observed the area and attempted to repair it</td>\n",
       "      <td>2018-10-04</td>\n",
       "      <td>2018-10-05</td>\n",
       "      <td>False</td>\n",
       "      <td>False</td>\n",
       "      <td>False</td>\n",
       "      <td>False</td>\n",
       "      <td>True</td>\n",
       "      <td>False</td>\n",
       "      <td>False</td>\n",
       "    </tr>\n",
       "    <tr>\n",
       "      <th>4</th>\n",
       "      <td>3TKLETXP62184570</td>\n",
       "      <td>1</td>\n",
       "      <td>11</td>\n",
       "      <td>000</td>\n",
       "      <td>0</td>\n",
       "      <td>Perform a periodic inspection</td>\n",
       "      <td>Completed the inspection</td>\n",
       "      <td>2018-07-03</td>\n",
       "      <td>2018-07-03</td>\n",
       "      <td>False</td>\n",
       "      <td>False</td>\n",
       "      <td>False</td>\n",
       "      <td>True</td>\n",
       "      <td>False</td>\n",
       "      <td>False</td>\n",
       "      <td>False</td>\n",
       "    </tr>\n",
       "  </tbody>\n",
       "</table>\n",
       "</div>"
      ],
      "text/plain": [
       "           Job Code Aircraft Transaction Code Malfunction Code  \\\n",
       "0  29L1HRLP65324239        1               11              000   \n",
       "1  29L1G6WP65246270        1               11              000   \n",
       "2  29L1MVAP65126453        1               11              000   \n",
       "3  3MNC6U7P6G277488        1               11              381   \n",
       "4  3TKLETXP62184570        1               11              000   \n",
       "\n",
       "  Action Taken Code                             Description of Problem  \\\n",
       "0                 0                      Perform a periodic inspection   \n",
       "1                 0  Perform corrosion prevention treatment on the ...   \n",
       "2                 0                      Perform a periodic inspection   \n",
       "3                 C  A system, component, part, or surface on the a...   \n",
       "4                 0                      Perform a periodic inspection   \n",
       "\n",
       "                          Correction of Problem Received Date Completion Date  \\\n",
       "0                      Completed the inspection    2012-11-19      2012-11-26   \n",
       "1                Performed corrosion prevention    2012-09-02      2012-09-03   \n",
       "2                      Completed the inspection    2013-05-06      2013-05-19   \n",
       "3  Observed the area and attempted to repair it    2018-10-04      2018-10-05   \n",
       "4                      Completed the inspection    2018-07-03      2018-07-03   \n",
       "\n",
       "   Corrosion  Bare Metal  Corrosion Prevention Treatment  Routine Maintenance  \\\n",
       "0      False       False                           False                 True   \n",
       "1      False       False                            True                False   \n",
       "2      False       False                           False                 True   \n",
       "3      False       False                           False                False   \n",
       "4      False       False                           False                 True   \n",
       "\n",
       "   Unscheduled Maintenance  Mission-Related Maintenance  Failure  \n",
       "0                    False                        False    False  \n",
       "1                    False                        False    False  \n",
       "2                    False                        False    False  \n",
       "3                     True                        False    False  \n",
       "4                    False                        False    False  "
      ]
     },
     "execution_count": 11,
     "metadata": {},
     "output_type": "execute_result"
    }
   ],
   "source": [
    "maf_actions.head()"
   ]
  },
  {
   "cell_type": "code",
   "execution_count": 13,
   "metadata": {},
   "outputs": [],
   "source": [
    "maf_actions.to_csv(\"../clean/maf_clean.csv\")"
   ]
  },
  {
   "cell_type": "markdown",
   "metadata": {},
   "source": [
    "Reading in MU data"
   ]
  },
  {
   "cell_type": "code",
   "execution_count": 14,
   "metadata": {},
   "outputs": [],
   "source": [
    "mu_data = pd.read_csv('../raw/HTM_MSP_Final.csv',\n",
    "                      header = 0,\n",
    "                     names = ['Aircraft', 'Squadron', 'Lot', 'MSP', 'ZULU_Time', 'Flight_Mode'], \n",
    "                     dtype = {'Aircraft': 'category',\n",
    "                             'Squadron': 'category',\n",
    "                             'Lot': 'category',\n",
    "                             'MSP': 'category',\n",
    "                             'Flight_Mode': 'category'})"
   ]
  },
  {
   "cell_type": "markdown",
   "metadata": {},
   "source": [
    "Converting ZULU_Time to datetime, extracting day to match with maf data"
   ]
  },
  {
   "cell_type": "code",
   "execution_count": 15,
   "metadata": {},
   "outputs": [],
   "source": [
    "mu_data['Fault Date'] = pd.to_datetime(mu_data['ZULU_Time'].str.split(\" \", n = 2, expand = True)[1])\n",
    "\n",
    "mu_data['Fault Time'] = pd.to_datetime(mu_data['ZULU_Time'].str.split(\" \", n = 2, expand = True)[2], format = '%H:%M:%S:%f').dt.time"
   ]
  },
  {
   "cell_type": "code",
   "execution_count": 48,
   "metadata": {},
   "outputs": [
    {
     "data": {
      "text/html": [
       "<div>\n",
       "<style scoped>\n",
       "    .dataframe tbody tr th:only-of-type {\n",
       "        vertical-align: middle;\n",
       "    }\n",
       "\n",
       "    .dataframe tbody tr th {\n",
       "        vertical-align: top;\n",
       "    }\n",
       "\n",
       "    .dataframe thead th {\n",
       "        text-align: right;\n",
       "    }\n",
       "</style>\n",
       "<table border=\"1\" class=\"dataframe\">\n",
       "  <thead>\n",
       "    <tr style=\"text-align: right;\">\n",
       "      <th></th>\n",
       "      <th>Aircraft</th>\n",
       "      <th>Squadron</th>\n",
       "      <th>Lot</th>\n",
       "      <th>MSP</th>\n",
       "      <th>ZULU_Time</th>\n",
       "      <th>Flight_Mode</th>\n",
       "      <th>Fault Date</th>\n",
       "      <th>Fault Time</th>\n",
       "    </tr>\n",
       "  </thead>\n",
       "  <tbody>\n",
       "    <tr>\n",
       "      <th>0</th>\n",
       "      <td>1</td>\n",
       "      <td>HH</td>\n",
       "      <td>100</td>\n",
       "      <td>ZJMZTL</td>\n",
       "      <td>01-APR-2014 00:25:39:00</td>\n",
       "      <td>EngineTurn</td>\n",
       "      <td>2014-04-01</td>\n",
       "      <td>00:25:39</td>\n",
       "    </tr>\n",
       "    <tr>\n",
       "      <th>1</th>\n",
       "      <td>1</td>\n",
       "      <td>HH</td>\n",
       "      <td>100</td>\n",
       "      <td>JDJDMQ</td>\n",
       "      <td>01-APR-2014 00:25:39:00</td>\n",
       "      <td>EngineTurn</td>\n",
       "      <td>2014-04-01</td>\n",
       "      <td>00:25:39</td>\n",
       "    </tr>\n",
       "    <tr>\n",
       "      <th>2</th>\n",
       "      <td>1</td>\n",
       "      <td>HH</td>\n",
       "      <td>100</td>\n",
       "      <td>RTVBHP</td>\n",
       "      <td>01-APR-2014 00:25:39:00</td>\n",
       "      <td>EngineTurn</td>\n",
       "      <td>2014-04-01</td>\n",
       "      <td>00:25:39</td>\n",
       "    </tr>\n",
       "    <tr>\n",
       "      <th>3</th>\n",
       "      <td>1</td>\n",
       "      <td>HH</td>\n",
       "      <td>100</td>\n",
       "      <td>RTUXHP</td>\n",
       "      <td>01-APR-2014 00:25:39:00</td>\n",
       "      <td>EngineTurn</td>\n",
       "      <td>2014-04-01</td>\n",
       "      <td>00:25:39</td>\n",
       "    </tr>\n",
       "    <tr>\n",
       "      <th>4</th>\n",
       "      <td>1</td>\n",
       "      <td>HH</td>\n",
       "      <td>100</td>\n",
       "      <td>RTUXMZ</td>\n",
       "      <td>01-APR-2014 00:25:39:00</td>\n",
       "      <td>EngineTurn</td>\n",
       "      <td>2014-04-01</td>\n",
       "      <td>00:25:39</td>\n",
       "    </tr>\n",
       "  </tbody>\n",
       "</table>\n",
       "</div>"
      ],
      "text/plain": [
       "  Aircraft Squadron  Lot      MSP                 ZULU_Time  Flight_Mode  \\\n",
       "0        1       HH  100   ZJMZTL   01-APR-2014 00:25:39:00   EngineTurn   \n",
       "1        1       HH  100   JDJDMQ   01-APR-2014 00:25:39:00   EngineTurn   \n",
       "2        1       HH  100   RTVBHP   01-APR-2014 00:25:39:00   EngineTurn   \n",
       "3        1       HH  100   RTUXHP   01-APR-2014 00:25:39:00   EngineTurn   \n",
       "4        1       HH  100   RTUXMZ   01-APR-2014 00:25:39:00   EngineTurn   \n",
       "\n",
       "  Fault Date Fault Time  \n",
       "0 2014-04-01   00:25:39  \n",
       "1 2014-04-01   00:25:39  \n",
       "2 2014-04-01   00:25:39  \n",
       "3 2014-04-01   00:25:39  \n",
       "4 2014-04-01   00:25:39  "
      ]
     },
     "execution_count": 48,
     "metadata": {},
     "output_type": "execute_result"
    }
   ],
   "source": [
    "mu_data.head()"
   ]
  },
  {
   "cell_type": "code",
   "execution_count": 44,
   "metadata": {},
   "outputs": [
    {
     "data": {
      "text/plain": [
       "Aircraft             category\n",
       "Squadron             category\n",
       "Lot                  category\n",
       "MSP                  category\n",
       "ZULU_Time              object\n",
       "Flight_Mode          category\n",
       "Fault Date     datetime64[ns]\n",
       "Fault Time             object\n",
       "dtype: object"
      ]
     },
     "execution_count": 44,
     "metadata": {},
     "output_type": "execute_result"
    }
   ],
   "source": [
    "mu_data.dtypes"
   ]
  },
  {
   "cell_type": "code",
   "execution_count": 49,
   "metadata": {},
   "outputs": [],
   "source": [
    "mu_data.to_csv(\"./data/clean/mu_clean.csv\")"
   ]
  }
 ],
 "metadata": {
  "kernelspec": {
   "display_name": "Python 3",
   "language": "python",
   "name": "python3"
  },
  "language_info": {
   "codemirror_mode": {
    "name": "ipython",
    "version": 3
   },
   "file_extension": ".py",
   "mimetype": "text/x-python",
   "name": "python",
   "nbconvert_exporter": "python",
   "pygments_lexer": "ipython3",
   "version": "3.7.3"
  }
 },
 "nbformat": 4,
 "nbformat_minor": 2
}

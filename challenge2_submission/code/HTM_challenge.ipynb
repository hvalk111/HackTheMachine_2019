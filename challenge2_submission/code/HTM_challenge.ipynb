{
 "cells": [
  {
   "cell_type": "code",
   "execution_count": null,
   "metadata": {},
   "outputs": [],
   "source": [
    "import pandas as pd\n",
    "from datetime import datetime"
   ]
  },
  {
   "cell_type": "markdown",
   "metadata": {},
   "source": [
    "Reading in MSP data, using ZULU time variable to create a date and time stamp"
   ]
  },
  {
   "cell_type": "code",
   "execution_count": 4,
   "metadata": {},
   "outputs": [
    {
     "name": "stderr",
     "output_type": "stream",
     "text": [
      "/Applications/anaconda3/lib/python3.7/site-packages/numpy/lib/arraysetops.py:569: FutureWarning: elementwise comparison failed; returning scalar instead, but in the future will perform elementwise comparison\n",
      "  mask |= (ar1 == a)\n"
     ]
    }
   ],
   "source": [
    "msp_data = pd.read_csv(\"../clean/mu_clean.csv\",index_col=0)\n",
    "\n",
    "msp_data['Fault Date'] = pd.to_datetime(msp_data['ZULU_Time'].str.split(\" \", n = 2, expand = True)[1])\n",
    "\n",
    "msp_data['Fault Time'] = pd.to_datetime(msp_data['ZULU_Time'].str.split(\" \", n = 2, expand = True)[2], format = '%H:%M:%S:%f').dt.time\n"
   ]
  },
  {
   "cell_type": "code",
   "execution_count": 5,
   "metadata": {},
   "outputs": [
    {
     "data": {
      "text/html": [
       "<div>\n",
       "<style scoped>\n",
       "    .dataframe tbody tr th:only-of-type {\n",
       "        vertical-align: middle;\n",
       "    }\n",
       "\n",
       "    .dataframe tbody tr th {\n",
       "        vertical-align: top;\n",
       "    }\n",
       "\n",
       "    .dataframe thead th {\n",
       "        text-align: right;\n",
       "    }\n",
       "</style>\n",
       "<table border=\"1\" class=\"dataframe\">\n",
       "  <thead>\n",
       "    <tr style=\"text-align: right;\">\n",
       "      <th></th>\n",
       "      <th>Aircraft</th>\n",
       "      <th>Squadron</th>\n",
       "      <th>Lot</th>\n",
       "      <th>MSP</th>\n",
       "      <th>ZULU_Time</th>\n",
       "      <th>Flight_Mode</th>\n",
       "      <th>Fault Date</th>\n",
       "      <th>Fault Time</th>\n",
       "    </tr>\n",
       "  </thead>\n",
       "  <tbody>\n",
       "    <tr>\n",
       "      <th>0</th>\n",
       "      <td>1</td>\n",
       "      <td>HH</td>\n",
       "      <td>100</td>\n",
       "      <td>ZJMZTL</td>\n",
       "      <td>01-APR-2014 00:25:39:00</td>\n",
       "      <td>EngineTurn</td>\n",
       "      <td>2014-04-01</td>\n",
       "      <td>00:25:39</td>\n",
       "    </tr>\n",
       "    <tr>\n",
       "      <th>1</th>\n",
       "      <td>1</td>\n",
       "      <td>HH</td>\n",
       "      <td>100</td>\n",
       "      <td>JDJDMQ</td>\n",
       "      <td>01-APR-2014 00:25:39:00</td>\n",
       "      <td>EngineTurn</td>\n",
       "      <td>2014-04-01</td>\n",
       "      <td>00:25:39</td>\n",
       "    </tr>\n",
       "    <tr>\n",
       "      <th>2</th>\n",
       "      <td>1</td>\n",
       "      <td>HH</td>\n",
       "      <td>100</td>\n",
       "      <td>RTVBHP</td>\n",
       "      <td>01-APR-2014 00:25:39:00</td>\n",
       "      <td>EngineTurn</td>\n",
       "      <td>2014-04-01</td>\n",
       "      <td>00:25:39</td>\n",
       "    </tr>\n",
       "    <tr>\n",
       "      <th>3</th>\n",
       "      <td>1</td>\n",
       "      <td>HH</td>\n",
       "      <td>100</td>\n",
       "      <td>RTUXHP</td>\n",
       "      <td>01-APR-2014 00:25:39:00</td>\n",
       "      <td>EngineTurn</td>\n",
       "      <td>2014-04-01</td>\n",
       "      <td>00:25:39</td>\n",
       "    </tr>\n",
       "    <tr>\n",
       "      <th>4</th>\n",
       "      <td>1</td>\n",
       "      <td>HH</td>\n",
       "      <td>100</td>\n",
       "      <td>RTUXMZ</td>\n",
       "      <td>01-APR-2014 00:25:39:00</td>\n",
       "      <td>EngineTurn</td>\n",
       "      <td>2014-04-01</td>\n",
       "      <td>00:25:39</td>\n",
       "    </tr>\n",
       "  </tbody>\n",
       "</table>\n",
       "</div>"
      ],
      "text/plain": [
       "   Aircraft Squadron  Lot     MSP                 ZULU_Time  Flight_Mode  \\\n",
       "0         1       HH  100  ZJMZTL   01-APR-2014 00:25:39:00   EngineTurn   \n",
       "1         1       HH  100  JDJDMQ   01-APR-2014 00:25:39:00   EngineTurn   \n",
       "2         1       HH  100  RTVBHP   01-APR-2014 00:25:39:00   EngineTurn   \n",
       "3         1       HH  100  RTUXHP   01-APR-2014 00:25:39:00   EngineTurn   \n",
       "4         1       HH  100  RTUXMZ   01-APR-2014 00:25:39:00   EngineTurn   \n",
       "\n",
       "  Fault Date Fault Time  \n",
       "0 2014-04-01   00:25:39  \n",
       "1 2014-04-01   00:25:39  \n",
       "2 2014-04-01   00:25:39  \n",
       "3 2014-04-01   00:25:39  \n",
       "4 2014-04-01   00:25:39  "
      ]
     },
     "execution_count": 5,
     "metadata": {},
     "output_type": "execute_result"
    }
   ],
   "source": [
    "msp_data.head()"
   ]
  },
  {
   "cell_type": "markdown",
   "metadata": {},
   "source": [
    "Reading in MAF data, converting recevied and completed dates to datetime objects"
   ]
  },
  {
   "cell_type": "code",
   "execution_count": 6,
   "metadata": {},
   "outputs": [],
   "source": [
    "maf_data = pd.read_csv(\"../clean/maf_clean.csv\", index_col = 0)\n",
    "\n",
    "maf_data['Received Date'] = pd.to_datetime(maf_data['Received Date'])\n",
    "\n",
    "maf_data['Completion Date'] = pd.to_datetime(maf_data['Completion Date'])"
   ]
  },
  {
   "cell_type": "code",
   "execution_count": 7,
   "metadata": {},
   "outputs": [
    {
     "data": {
      "text/html": [
       "<div>\n",
       "<style scoped>\n",
       "    .dataframe tbody tr th:only-of-type {\n",
       "        vertical-align: middle;\n",
       "    }\n",
       "\n",
       "    .dataframe tbody tr th {\n",
       "        vertical-align: top;\n",
       "    }\n",
       "\n",
       "    .dataframe thead th {\n",
       "        text-align: right;\n",
       "    }\n",
       "</style>\n",
       "<table border=\"1\" class=\"dataframe\">\n",
       "  <thead>\n",
       "    <tr style=\"text-align: right;\">\n",
       "      <th></th>\n",
       "      <th>Job Code</th>\n",
       "      <th>Aircraft</th>\n",
       "      <th>Transaction Code</th>\n",
       "      <th>Malfunction Code</th>\n",
       "      <th>Action Taken Code</th>\n",
       "      <th>Description of Problem</th>\n",
       "      <th>Correction of Problem</th>\n",
       "      <th>Received Date</th>\n",
       "      <th>Completion Date</th>\n",
       "      <th>Corrosion</th>\n",
       "      <th>Bare Metal</th>\n",
       "      <th>Corrosion Prevention Treatment</th>\n",
       "      <th>Routine Maintenance</th>\n",
       "      <th>Unscheduled Maintenance</th>\n",
       "      <th>Mission-Related Maintenance</th>\n",
       "      <th>Failure</th>\n",
       "    </tr>\n",
       "  </thead>\n",
       "  <tbody>\n",
       "    <tr>\n",
       "      <th>0</th>\n",
       "      <td>0NGHY44WC8118573</td>\n",
       "      <td>42</td>\n",
       "      <td>11</td>\n",
       "      <td>0</td>\n",
       "      <td>N</td>\n",
       "      <td>Perform system or component checks</td>\n",
       "      <td>Completed the component or system test</td>\n",
       "      <td>2012-04-26</td>\n",
       "      <td>2014-02-27</td>\n",
       "      <td>False</td>\n",
       "      <td>False</td>\n",
       "      <td>False</td>\n",
       "      <td>True</td>\n",
       "      <td>False</td>\n",
       "      <td>False</td>\n",
       "      <td>False</td>\n",
       "    </tr>\n",
       "    <tr>\n",
       "      <th>1</th>\n",
       "      <td>0NGHY45WC8118591</td>\n",
       "      <td>42</td>\n",
       "      <td>11</td>\n",
       "      <td>0</td>\n",
       "      <td>N</td>\n",
       "      <td>Perform system or component checks</td>\n",
       "      <td>Completed the component or system test</td>\n",
       "      <td>2012-04-26</td>\n",
       "      <td>2014-02-27</td>\n",
       "      <td>False</td>\n",
       "      <td>False</td>\n",
       "      <td>False</td>\n",
       "      <td>True</td>\n",
       "      <td>False</td>\n",
       "      <td>False</td>\n",
       "      <td>False</td>\n",
       "    </tr>\n",
       "    <tr>\n",
       "      <th>2</th>\n",
       "      <td>0NGHY46WC8118581</td>\n",
       "      <td>42</td>\n",
       "      <td>11</td>\n",
       "      <td>0</td>\n",
       "      <td>N</td>\n",
       "      <td>Perform a periodic inspection</td>\n",
       "      <td>Completed the inspection</td>\n",
       "      <td>2012-04-26</td>\n",
       "      <td>2014-02-27</td>\n",
       "      <td>False</td>\n",
       "      <td>False</td>\n",
       "      <td>False</td>\n",
       "      <td>True</td>\n",
       "      <td>False</td>\n",
       "      <td>False</td>\n",
       "      <td>False</td>\n",
       "    </tr>\n",
       "    <tr>\n",
       "      <th>3</th>\n",
       "      <td>0NGHY47WC8118577</td>\n",
       "      <td>42</td>\n",
       "      <td>11</td>\n",
       "      <td>0</td>\n",
       "      <td>N</td>\n",
       "      <td>Perform a periodic inspection</td>\n",
       "      <td>Completed the inspection</td>\n",
       "      <td>2012-04-26</td>\n",
       "      <td>2014-02-27</td>\n",
       "      <td>False</td>\n",
       "      <td>False</td>\n",
       "      <td>False</td>\n",
       "      <td>True</td>\n",
       "      <td>False</td>\n",
       "      <td>False</td>\n",
       "      <td>False</td>\n",
       "    </tr>\n",
       "    <tr>\n",
       "      <th>4</th>\n",
       "      <td>0NGHY48WC8118586</td>\n",
       "      <td>42</td>\n",
       "      <td>11</td>\n",
       "      <td>0</td>\n",
       "      <td>N</td>\n",
       "      <td>Perform a periodic inspection</td>\n",
       "      <td>Completed the inspection</td>\n",
       "      <td>2012-04-26</td>\n",
       "      <td>2014-02-27</td>\n",
       "      <td>False</td>\n",
       "      <td>False</td>\n",
       "      <td>False</td>\n",
       "      <td>True</td>\n",
       "      <td>False</td>\n",
       "      <td>False</td>\n",
       "      <td>False</td>\n",
       "    </tr>\n",
       "  </tbody>\n",
       "</table>\n",
       "</div>"
      ],
      "text/plain": [
       "           Job Code  Aircraft  Transaction Code Malfunction Code  \\\n",
       "0  0NGHY44WC8118573        42                11                0   \n",
       "1  0NGHY45WC8118591        42                11                0   \n",
       "2  0NGHY46WC8118581        42                11                0   \n",
       "3  0NGHY47WC8118577        42                11                0   \n",
       "4  0NGHY48WC8118586        42                11                0   \n",
       "\n",
       "  Action Taken Code               Description of Problem  \\\n",
       "0                 N  Perform system or component checks    \n",
       "1                 N  Perform system or component checks    \n",
       "2                 N        Perform a periodic inspection   \n",
       "3                 N        Perform a periodic inspection   \n",
       "4                 N        Perform a periodic inspection   \n",
       "\n",
       "                    Correction of Problem Received Date Completion Date  \\\n",
       "0  Completed the component or system test    2012-04-26      2014-02-27   \n",
       "1  Completed the component or system test    2012-04-26      2014-02-27   \n",
       "2                Completed the inspection    2012-04-26      2014-02-27   \n",
       "3                Completed the inspection    2012-04-26      2014-02-27   \n",
       "4                Completed the inspection    2012-04-26      2014-02-27   \n",
       "\n",
       "   Corrosion  Bare Metal  Corrosion Prevention Treatment  Routine Maintenance  \\\n",
       "0      False       False                           False                 True   \n",
       "1      False       False                           False                 True   \n",
       "2      False       False                           False                 True   \n",
       "3      False       False                           False                 True   \n",
       "4      False       False                           False                 True   \n",
       "\n",
       "   Unscheduled Maintenance  Mission-Related Maintenance  Failure  \n",
       "0                    False                        False    False  \n",
       "1                    False                        False    False  \n",
       "2                    False                        False    False  \n",
       "3                    False                        False    False  \n",
       "4                    False                        False    False  "
      ]
     },
     "execution_count": 7,
     "metadata": {},
     "output_type": "execute_result"
    }
   ],
   "source": [
    "maf_data.head()"
   ]
  },
  {
   "cell_type": "markdown",
   "metadata": {},
   "source": [
    "Creating a dataset of maintenance jobs that specifically targeted corrosion: using the T/F indicators for Corrosion, Bare Metal and Corrosion Prevension"
   ]
  },
  {
   "cell_type": "code",
   "execution_count": 8,
   "metadata": {},
   "outputs": [],
   "source": [
    "corrosion_actions = maf_data[maf_data['Corrosion']| maf_data['Bare Metal'] | maf_data['Corrosion Prevention Treatment']]"
   ]
  },
  {
   "cell_type": "markdown",
   "metadata": {},
   "source": [
    "Adding a 'year' variable to join MAF/MSP data on aircraft and year"
   ]
  },
  {
   "cell_type": "code",
   "execution_count": 9,
   "metadata": {},
   "outputs": [
    {
     "name": "stderr",
     "output_type": "stream",
     "text": [
      "/Applications/anaconda3/lib/python3.7/site-packages/ipykernel_launcher.py:1: SettingWithCopyWarning: \n",
      "A value is trying to be set on a copy of a slice from a DataFrame.\n",
      "Try using .loc[row_indexer,col_indexer] = value instead\n",
      "\n",
      "See the caveats in the documentation: http://pandas.pydata.org/pandas-docs/stable/indexing.html#indexing-view-versus-copy\n",
      "  \"\"\"Entry point for launching an IPython kernel.\n"
     ]
    }
   ],
   "source": [
    "corrosion_actions[\"action_year\"] = pd.DatetimeIndex(corrosion_actions['Completion Date']).year"
   ]
  },
  {
   "cell_type": "code",
   "execution_count": null,
   "metadata": {},
   "outputs": [],
   "source": [
    "msp_data['action_year'] = pd.DatetimeIndex(msp_data['Fault Date']).year"
   ]
  },
  {
   "cell_type": "markdown",
   "metadata": {},
   "source": [
    "Due to the size of the data: taking a random sample of 10,000 jobs that targeted corrosion"
   ]
  },
  {
   "cell_type": "code",
   "execution_count": 12,
   "metadata": {},
   "outputs": [],
   "source": [
    "corrosion_actions = corrosion_actions.sample(10000, random_state = 35, axis = 0)"
   ]
  },
  {
   "cell_type": "markdown",
   "metadata": {},
   "source": [
    "Joining MAF actions with MSP error code data on aircraft and year"
   ]
  },
  {
   "cell_type": "code",
   "execution_count": 13,
   "metadata": {},
   "outputs": [],
   "source": [
    "combined_data = corrosion_actions.drop(['Transaction Code', 'Malfunction Code', 'Action Taken Code', 'Description of Problem', 'Correction of Problem', 'Routine Maintenance', 'Unscheduled Maintenance', 'Mission-Related Maintenance', 'Failure'], axis = 1).merge(msp_data[['Aircraft', 'action_year', 'MSP', 'Flight_Mode', 'Fault Date']], how = 'left', on = ['Aircraft', 'action_year'])"
   ]
  },
  {
   "cell_type": "markdown",
   "metadata": {},
   "source": [
    "Creating a time window of interest: for the predictive model, we will focuse on the error code frequency 30 days prior to the received date.  To examine the change in frequency for MSP codes before and after corrosion corrective maintenance, we will add a time window 30 days after the completed dates.  This time window can be adjusted to examine model performance"
   ]
  },
  {
   "cell_type": "code",
   "execution_count": 14,
   "metadata": {},
   "outputs": [],
   "source": [
    "combined_data['before_window'] = combined_data['Received Date'] - pd.DateOffset(months = 1)\n",
    "\n",
    "combined_data['after_window'] = combined_data['Completion Date'] + pd.DateOffset(months = 1)"
   ]
  },
  {
   "cell_type": "markdown",
   "metadata": {},
   "source": [
    "Filtering out MSP error codes that occured outside of the 30 day windows previously discussed"
   ]
  },
  {
   "cell_type": "code",
   "execution_count": 15,
   "metadata": {},
   "outputs": [],
   "source": [
    "combined_data = combined_data[(combined_data['Fault Date'] > combined_data['before_window']) & (combined_data['Fault Date'] < combined_data['after_window'])]"
   ]
  },
  {
   "cell_type": "markdown",
   "metadata": {},
   "source": [
    "Adding a variable 'Pre' that indicates whether the MSP error code happened before or after the maintenance action.  This will be used to calculate frequency changes of the MSP codes"
   ]
  },
  {
   "cell_type": "code",
   "execution_count": 16,
   "metadata": {},
   "outputs": [],
   "source": [
    "combined_data['Pre'] = combined_data['Fault Date'] < combined_data['Completion Date']"
   ]
  },
  {
   "cell_type": "markdown",
   "metadata": {},
   "source": [
    "Removing MSP codes within service window: the data description mentioned sometimes technicians would try to replicate errors, which would inflate MSP frequency.  For that Reason we will remove MSP codes that happened within the service window."
   ]
  },
  {
   "cell_type": "code",
   "execution_count": 17,
   "metadata": {},
   "outputs": [],
   "source": [
    "combined_data = combined_data[(combined_data['Fault Date'] > combined_data['Completion Date']) | (combined_data['Fault Date'] < combined_data['Received Date'])]"
   ]
  },
  {
   "cell_type": "markdown",
   "metadata": {},
   "source": [
    "Adding an indicator variable to count MSP code frequency"
   ]
  },
  {
   "cell_type": "code",
   "execution_count": 21,
   "metadata": {},
   "outputs": [],
   "source": [
    "combined_data['row'] = True"
   ]
  },
  {
   "cell_type": "code",
   "execution_count": 22,
   "metadata": {},
   "outputs": [
    {
     "data": {
      "text/html": [
       "<div>\n",
       "<style scoped>\n",
       "    .dataframe tbody tr th:only-of-type {\n",
       "        vertical-align: middle;\n",
       "    }\n",
       "\n",
       "    .dataframe tbody tr th {\n",
       "        vertical-align: top;\n",
       "    }\n",
       "\n",
       "    .dataframe thead th {\n",
       "        text-align: right;\n",
       "    }\n",
       "</style>\n",
       "<table border=\"1\" class=\"dataframe\">\n",
       "  <thead>\n",
       "    <tr style=\"text-align: right;\">\n",
       "      <th></th>\n",
       "      <th>Job Code</th>\n",
       "      <th>Aircraft</th>\n",
       "      <th>Received Date</th>\n",
       "      <th>Completion Date</th>\n",
       "      <th>Corrosion</th>\n",
       "      <th>Bare Metal</th>\n",
       "      <th>Corrosion Prevention Treatment</th>\n",
       "      <th>action_year</th>\n",
       "      <th>MSP</th>\n",
       "      <th>Flight_Mode</th>\n",
       "      <th>Fault Date</th>\n",
       "      <th>before_window</th>\n",
       "      <th>after_window</th>\n",
       "      <th>Pre</th>\n",
       "      <th>row</th>\n",
       "    </tr>\n",
       "  </thead>\n",
       "  <tbody>\n",
       "    <tr>\n",
       "      <th>242</th>\n",
       "      <td>36MSVQWAA8271517</td>\n",
       "      <td>10</td>\n",
       "      <td>2012-09-27</td>\n",
       "      <td>2012-09-27</td>\n",
       "      <td>True</td>\n",
       "      <td>False</td>\n",
       "      <td>False</td>\n",
       "      <td>2012</td>\n",
       "      <td>HPTLNV</td>\n",
       "      <td>EngineTurn</td>\n",
       "      <td>2012-09-01</td>\n",
       "      <td>2012-08-27</td>\n",
       "      <td>2012-10-27</td>\n",
       "      <td>True</td>\n",
       "      <td>True</td>\n",
       "    </tr>\n",
       "    <tr>\n",
       "      <th>243</th>\n",
       "      <td>36MSVQWAA8271517</td>\n",
       "      <td>10</td>\n",
       "      <td>2012-09-27</td>\n",
       "      <td>2012-09-27</td>\n",
       "      <td>True</td>\n",
       "      <td>False</td>\n",
       "      <td>False</td>\n",
       "      <td>2012</td>\n",
       "      <td>HPFVTL</td>\n",
       "      <td>EngineTurn</td>\n",
       "      <td>2012-09-01</td>\n",
       "      <td>2012-08-27</td>\n",
       "      <td>2012-10-27</td>\n",
       "      <td>True</td>\n",
       "      <td>True</td>\n",
       "    </tr>\n",
       "    <tr>\n",
       "      <th>244</th>\n",
       "      <td>36MSVQWAA8271517</td>\n",
       "      <td>10</td>\n",
       "      <td>2012-09-27</td>\n",
       "      <td>2012-09-27</td>\n",
       "      <td>True</td>\n",
       "      <td>False</td>\n",
       "      <td>False</td>\n",
       "      <td>2012</td>\n",
       "      <td>HPTLJD</td>\n",
       "      <td>EngineTurn</td>\n",
       "      <td>2012-09-01</td>\n",
       "      <td>2012-08-27</td>\n",
       "      <td>2012-10-27</td>\n",
       "      <td>True</td>\n",
       "      <td>True</td>\n",
       "    </tr>\n",
       "    <tr>\n",
       "      <th>245</th>\n",
       "      <td>36MSVQWAA8271517</td>\n",
       "      <td>10</td>\n",
       "      <td>2012-09-27</td>\n",
       "      <td>2012-09-27</td>\n",
       "      <td>True</td>\n",
       "      <td>False</td>\n",
       "      <td>False</td>\n",
       "      <td>2012</td>\n",
       "      <td>HPTLHP</td>\n",
       "      <td>EngineTurn</td>\n",
       "      <td>2012-09-01</td>\n",
       "      <td>2012-08-27</td>\n",
       "      <td>2012-10-27</td>\n",
       "      <td>True</td>\n",
       "      <td>True</td>\n",
       "    </tr>\n",
       "    <tr>\n",
       "      <th>246</th>\n",
       "      <td>36MSVQWAA8271517</td>\n",
       "      <td>10</td>\n",
       "      <td>2012-09-27</td>\n",
       "      <td>2012-09-27</td>\n",
       "      <td>True</td>\n",
       "      <td>False</td>\n",
       "      <td>False</td>\n",
       "      <td>2012</td>\n",
       "      <td>HPTLNV</td>\n",
       "      <td>EngineTurn</td>\n",
       "      <td>2012-09-01</td>\n",
       "      <td>2012-08-27</td>\n",
       "      <td>2012-10-27</td>\n",
       "      <td>True</td>\n",
       "      <td>True</td>\n",
       "    </tr>\n",
       "  </tbody>\n",
       "</table>\n",
       "</div>"
      ],
      "text/plain": [
       "             Job Code  Aircraft Received Date Completion Date  Corrosion  \\\n",
       "242  36MSVQWAA8271517        10    2012-09-27      2012-09-27       True   \n",
       "243  36MSVQWAA8271517        10    2012-09-27      2012-09-27       True   \n",
       "244  36MSVQWAA8271517        10    2012-09-27      2012-09-27       True   \n",
       "245  36MSVQWAA8271517        10    2012-09-27      2012-09-27       True   \n",
       "246  36MSVQWAA8271517        10    2012-09-27      2012-09-27       True   \n",
       "\n",
       "     Bare Metal  Corrosion Prevention Treatment  action_year     MSP  \\\n",
       "242       False                           False         2012  HPTLNV   \n",
       "243       False                           False         2012  HPFVTL   \n",
       "244       False                           False         2012  HPTLJD   \n",
       "245       False                           False         2012  HPTLHP   \n",
       "246       False                           False         2012  HPTLNV   \n",
       "\n",
       "     Flight_Mode Fault Date before_window after_window   Pre   row  \n",
       "242   EngineTurn 2012-09-01    2012-08-27   2012-10-27  True  True  \n",
       "243   EngineTurn 2012-09-01    2012-08-27   2012-10-27  True  True  \n",
       "244   EngineTurn 2012-09-01    2012-08-27   2012-10-27  True  True  \n",
       "245   EngineTurn 2012-09-01    2012-08-27   2012-10-27  True  True  \n",
       "246   EngineTurn 2012-09-01    2012-08-27   2012-10-27  True  True  "
      ]
     },
     "execution_count": 22,
     "metadata": {},
     "output_type": "execute_result"
    }
   ],
   "source": [
    "combined_data.head()"
   ]
  },
  {
   "cell_type": "markdown",
   "metadata": {},
   "source": [
    "Counting the MSP frequency pre and post the maintenance action for corrosion"
   ]
  },
  {
   "cell_type": "code",
   "execution_count": 23,
   "metadata": {},
   "outputs": [],
   "source": [
    "msp_counts = combined_data[['Job Code', 'MSP', 'Pre', 'row']].groupby(['Job Code', 'MSP', 'Pre']).count().reset_index()"
   ]
  },
  {
   "cell_type": "markdown",
   "metadata": {},
   "source": [
    "Finding codes to focus on (in builidng a classifier) based on the difference in frequency before and after the corrective action"
   ]
  },
  {
   "cell_type": "code",
   "execution_count": 24,
   "metadata": {},
   "outputs": [],
   "source": [
    "msp_pre = combined_data.query('Pre == True').groupby('MSP')[['row']].count().reset_index().rename(columns = {'row': 'pre'})"
   ]
  },
  {
   "cell_type": "code",
   "execution_count": 25,
   "metadata": {},
   "outputs": [],
   "source": [
    "msp_post = combined_data.query('Pre == False').groupby('MSP')[['row']].count().reset_index().rename(columns = {'row': 'post'})"
   ]
  },
  {
   "cell_type": "code",
   "execution_count": 26,
   "metadata": {},
   "outputs": [],
   "source": [
    "msp_diff = msp_post.merge(msp_pre, how = 'left', on = 'MSP')"
   ]
  },
  {
   "cell_type": "code",
   "execution_count": 27,
   "metadata": {},
   "outputs": [],
   "source": [
    "msp_diff['diff'] = msp_diff['pre'] - msp_diff['post']"
   ]
  },
  {
   "cell_type": "markdown",
   "metadata": {},
   "source": [
    "The plot below represents the top 20 MSP codes with the largest difference in frequency pre/post corrective actions"
   ]
  },
  {
   "cell_type": "code",
   "execution_count": 29,
   "metadata": {},
   "outputs": [
    {
     "data": {
      "image/png": "[encoded data removed]",
      "text/plain": [
       "<Figure size 432x288 with 1 Axes>"
      ]
     },
     "metadata": {
      "needs_background": "light"
     },
     "output_type": "display_data"
    }
   ],
   "source": [
    "msp_diff.sort_values('diff', ascending=False).reset_index().head(20).plot.bar(x = 'MSP', y = 'diff');"
   ]
  },
  {
   "cell_type": "code",
   "execution_count": 30,
   "metadata": {},
   "outputs": [],
   "source": [
    "msp_interest = msp_diff.sort_values('diff', ascending=False).reset_index().head(20)['MSP']"
   ]
  },
  {
   "cell_type": "code",
   "execution_count": 31,
   "metadata": {},
   "outputs": [
    {
     "data": {
      "text/plain": [
       "0     RTVBHP\n",
       "1     MZUXHP\n",
       "2     JDUXHP\n",
       "3     FVFVJD\n",
       "4     JDQGQG\n",
       "5     MZMZQG\n",
       "6     NVZJVB\n",
       "7     MZVBTL\n",
       "8     NVMQZJ\n",
       "9     NVMZUX\n",
       "10    XUXUJD\n",
       "11    MZJDTL\n",
       "12    MQFVMQ\n",
       "13    MQUXXU\n",
       "14    MQJDHP\n",
       "15    UXUXHP\n",
       "16    UXMQHP\n",
       "17    HPXUXU\n",
       "18    MQHPNV\n",
       "19    UXMQMZ\n",
       "Name: MSP, dtype: object"
      ]
     },
     "execution_count": 31,
     "metadata": {},
     "output_type": "execute_result"
    }
   ],
   "source": [
    "msp_interest"
   ]
  },
  {
   "cell_type": "markdown",
   "metadata": {},
   "source": [
    "Filtering MSP codes of interest, saving the result to a csv for visualizations"
   ]
  },
  {
   "cell_type": "code",
   "execution_count": 32,
   "metadata": {},
   "outputs": [],
   "source": [
    "msp_counts[msp_counts['MSP'].isin(msp_interest)].to_csv('../clean/MSP_freq.csv', index = False)"
   ]
  },
  {
   "cell_type": "markdown",
   "metadata": {},
   "source": [
    "Creating a dataset of MSP codes of interest frequency prior to corrective action, filling in NA values with 0.  The indicator 'corrosion' is True, as these maintenance actions targeted corrosion"
   ]
  },
  {
   "cell_type": "code",
   "execution_count": 33,
   "metadata": {},
   "outputs": [],
   "source": [
    "corrosion = msp_counts[msp_counts['MSP'].isin(msp_interest)].query('Pre').drop('Pre', axis = 1).pivot(index = 'Job Code', columns = 'MSP', values = 'row').fillna(0.0).reset_index()\n",
    "\n",
    "corrosion['corrosion'] = True\n",
    "\n",
    "corrosion.drop('Job Code', axis = 1, inplace = True)"
   ]
  },
  {
   "cell_type": "code",
   "execution_count": 34,
   "metadata": {},
   "outputs": [
    {
     "data": {
      "text/html": [
       "<div>\n",
       "<style scoped>\n",
       "    .dataframe tbody tr th:only-of-type {\n",
       "        vertical-align: middle;\n",
       "    }\n",
       "\n",
       "    .dataframe tbody tr th {\n",
       "        vertical-align: top;\n",
       "    }\n",
       "\n",
       "    .dataframe thead th {\n",
       "        text-align: right;\n",
       "    }\n",
       "</style>\n",
       "<table border=\"1\" class=\"dataframe\">\n",
       "  <thead>\n",
       "    <tr style=\"text-align: right;\">\n",
       "      <th>MSP</th>\n",
       "      <th>FVFVJD</th>\n",
       "      <th>HPXUXU</th>\n",
       "      <th>JDQGQG</th>\n",
       "      <th>JDUXHP</th>\n",
       "      <th>MQFVMQ</th>\n",
       "      <th>MQHPNV</th>\n",
       "      <th>MQJDHP</th>\n",
       "      <th>MQUXXU</th>\n",
       "      <th>MZJDTL</th>\n",
       "      <th>MZMZQG</th>\n",
       "      <th>...</th>\n",
       "      <th>MZVBTL</th>\n",
       "      <th>NVMQZJ</th>\n",
       "      <th>NVMZUX</th>\n",
       "      <th>NVZJVB</th>\n",
       "      <th>RTVBHP</th>\n",
       "      <th>UXMQHP</th>\n",
       "      <th>UXMQMZ</th>\n",
       "      <th>UXUXHP</th>\n",
       "      <th>XUXUJD</th>\n",
       "      <th>corrosion</th>\n",
       "    </tr>\n",
       "  </thead>\n",
       "  <tbody>\n",
       "    <tr>\n",
       "      <th>6964</th>\n",
       "      <td>0.0</td>\n",
       "      <td>0.0</td>\n",
       "      <td>0.0</td>\n",
       "      <td>0.0</td>\n",
       "      <td>0.0</td>\n",
       "      <td>0.0</td>\n",
       "      <td>0.0</td>\n",
       "      <td>0.0</td>\n",
       "      <td>0.0</td>\n",
       "      <td>0.0</td>\n",
       "      <td>...</td>\n",
       "      <td>0.0</td>\n",
       "      <td>0.0</td>\n",
       "      <td>0.0</td>\n",
       "      <td>0.0</td>\n",
       "      <td>0.0</td>\n",
       "      <td>0.0</td>\n",
       "      <td>0.0</td>\n",
       "      <td>2.0</td>\n",
       "      <td>0.0</td>\n",
       "      <td>True</td>\n",
       "    </tr>\n",
       "    <tr>\n",
       "      <th>6965</th>\n",
       "      <td>0.0</td>\n",
       "      <td>0.0</td>\n",
       "      <td>0.0</td>\n",
       "      <td>0.0</td>\n",
       "      <td>0.0</td>\n",
       "      <td>0.0</td>\n",
       "      <td>0.0</td>\n",
       "      <td>0.0</td>\n",
       "      <td>0.0</td>\n",
       "      <td>0.0</td>\n",
       "      <td>...</td>\n",
       "      <td>0.0</td>\n",
       "      <td>0.0</td>\n",
       "      <td>0.0</td>\n",
       "      <td>0.0</td>\n",
       "      <td>0.0</td>\n",
       "      <td>0.0</td>\n",
       "      <td>0.0</td>\n",
       "      <td>2.0</td>\n",
       "      <td>0.0</td>\n",
       "      <td>True</td>\n",
       "    </tr>\n",
       "    <tr>\n",
       "      <th>6966</th>\n",
       "      <td>0.0</td>\n",
       "      <td>0.0</td>\n",
       "      <td>0.0</td>\n",
       "      <td>0.0</td>\n",
       "      <td>0.0</td>\n",
       "      <td>0.0</td>\n",
       "      <td>0.0</td>\n",
       "      <td>0.0</td>\n",
       "      <td>0.0</td>\n",
       "      <td>0.0</td>\n",
       "      <td>...</td>\n",
       "      <td>0.0</td>\n",
       "      <td>0.0</td>\n",
       "      <td>0.0</td>\n",
       "      <td>0.0</td>\n",
       "      <td>0.0</td>\n",
       "      <td>0.0</td>\n",
       "      <td>0.0</td>\n",
       "      <td>5.0</td>\n",
       "      <td>0.0</td>\n",
       "      <td>True</td>\n",
       "    </tr>\n",
       "    <tr>\n",
       "      <th>6967</th>\n",
       "      <td>0.0</td>\n",
       "      <td>0.0</td>\n",
       "      <td>0.0</td>\n",
       "      <td>0.0</td>\n",
       "      <td>0.0</td>\n",
       "      <td>0.0</td>\n",
       "      <td>0.0</td>\n",
       "      <td>0.0</td>\n",
       "      <td>0.0</td>\n",
       "      <td>0.0</td>\n",
       "      <td>...</td>\n",
       "      <td>0.0</td>\n",
       "      <td>0.0</td>\n",
       "      <td>0.0</td>\n",
       "      <td>0.0</td>\n",
       "      <td>0.0</td>\n",
       "      <td>0.0</td>\n",
       "      <td>0.0</td>\n",
       "      <td>5.0</td>\n",
       "      <td>0.0</td>\n",
       "      <td>True</td>\n",
       "    </tr>\n",
       "    <tr>\n",
       "      <th>6968</th>\n",
       "      <td>0.0</td>\n",
       "      <td>0.0</td>\n",
       "      <td>0.0</td>\n",
       "      <td>0.0</td>\n",
       "      <td>0.0</td>\n",
       "      <td>0.0</td>\n",
       "      <td>0.0</td>\n",
       "      <td>0.0</td>\n",
       "      <td>0.0</td>\n",
       "      <td>3.0</td>\n",
       "      <td>...</td>\n",
       "      <td>0.0</td>\n",
       "      <td>0.0</td>\n",
       "      <td>0.0</td>\n",
       "      <td>0.0</td>\n",
       "      <td>0.0</td>\n",
       "      <td>0.0</td>\n",
       "      <td>0.0</td>\n",
       "      <td>0.0</td>\n",
       "      <td>0.0</td>\n",
       "      <td>True</td>\n",
       "    </tr>\n",
       "  </tbody>\n",
       "</table>\n",
       "<p>5 rows × 21 columns</p>\n",
       "</div>"
      ],
      "text/plain": [
       "MSP   FVFVJD  HPXUXU  JDQGQG  JDUXHP  MQFVMQ  MQHPNV  MQJDHP  MQUXXU  MZJDTL  \\\n",
       "6964     0.0     0.0     0.0     0.0     0.0     0.0     0.0     0.0     0.0   \n",
       "6965     0.0     0.0     0.0     0.0     0.0     0.0     0.0     0.0     0.0   \n",
       "6966     0.0     0.0     0.0     0.0     0.0     0.0     0.0     0.0     0.0   \n",
       "6967     0.0     0.0     0.0     0.0     0.0     0.0     0.0     0.0     0.0   \n",
       "6968     0.0     0.0     0.0     0.0     0.0     0.0     0.0     0.0     0.0   \n",
       "\n",
       "MSP   MZMZQG  ...  MZVBTL  NVMQZJ  NVMZUX  NVZJVB  RTVBHP  UXMQHP  UXMQMZ  \\\n",
       "6964     0.0  ...     0.0     0.0     0.0     0.0     0.0     0.0     0.0   \n",
       "6965     0.0  ...     0.0     0.0     0.0     0.0     0.0     0.0     0.0   \n",
       "6966     0.0  ...     0.0     0.0     0.0     0.0     0.0     0.0     0.0   \n",
       "6967     0.0  ...     0.0     0.0     0.0     0.0     0.0     0.0     0.0   \n",
       "6968     3.0  ...     0.0     0.0     0.0     0.0     0.0     0.0     0.0   \n",
       "\n",
       "MSP   UXUXHP  XUXUJD  corrosion  \n",
       "6964     2.0     0.0       True  \n",
       "6965     2.0     0.0       True  \n",
       "6966     5.0     0.0       True  \n",
       "6967     5.0     0.0       True  \n",
       "6968     0.0     0.0       True  \n",
       "\n",
       "[5 rows x 21 columns]"
      ]
     },
     "execution_count": 34,
     "metadata": {},
     "output_type": "execute_result"
    }
   ],
   "source": [
    "corrosion.tail()"
   ]
  },
  {
   "cell_type": "markdown",
   "metadata": {},
   "source": [
    "To balance class labels in the dataset, we will create a dataset of non-corrosion maintence actions, and estimate the frequency of the MSP codes of interest 30 days prior to the received date using the same approach as the corrosion actions.  We will then use MSP code frequency to predict whether the maintenance action targets target corrosion, which could be useful in altering technicians that corrosion could be an issue to address."
   ]
  },
  {
   "cell_type": "code",
   "execution_count": 40,
   "metadata": {},
   "outputs": [],
   "source": [
    "non_corrosion_actions = maf_data[~(maf_data['Corrosion'] | maf_data['Bare Metal'] | maf_data['Corrosion Prevention Treatment'])].sample(30000, axis = 0, random_state = 35)"
   ]
  },
  {
   "cell_type": "code",
   "execution_count": 41,
   "metadata": {},
   "outputs": [],
   "source": [
    "non_corrosion_actions[\"action_year\"] = pd.DatetimeIndex(non_corrosion_actions['Completion Date']).year"
   ]
  },
  {
   "cell_type": "code",
   "execution_count": 42,
   "metadata": {},
   "outputs": [],
   "source": [
    "combined_data_non = non_corrosion_actions.drop(['Transaction Code', 'Malfunction Code', 'Action Taken Code', 'Description of Problem', 'Correction of Problem', 'Routine Maintenance', 'Unscheduled Maintenance', 'Mission-Related Maintenance', 'Failure'], axis = 1).merge(msp_data[['Aircraft', 'action_year', 'MSP', 'Fault Date']], how = 'left', on = ['Aircraft', 'action_year'])\n"
   ]
  },
  {
   "cell_type": "code",
   "execution_count": 43,
   "metadata": {},
   "outputs": [],
   "source": [
    "combined_data_non['before_window'] = combined_data_non['Received Date'] - pd.DateOffset(months = 1)\n",
    "\n",
    "combined_data_non['after_window'] = combined_data_non['Completion Date'] + pd.DateOffset(months = 1)"
   ]
  },
  {
   "cell_type": "code",
   "execution_count": 44,
   "metadata": {},
   "outputs": [],
   "source": [
    "combined_data_non = combined_data_non[(combined_data_non['Fault Date'] > combined_data_non['before_window']) & (combined_data_non['Fault Date'] < combined_data_non['after_window'])]\n"
   ]
  },
  {
   "cell_type": "code",
   "execution_count": 45,
   "metadata": {},
   "outputs": [],
   "source": [
    "combined_data_non['Pre'] = combined_data_non['Fault Date'] < combined_data_non['Completion Date']"
   ]
  },
  {
   "cell_type": "code",
   "execution_count": 46,
   "metadata": {},
   "outputs": [],
   "source": [
    "combined_data_non = combined_data_non[(combined_data_non['Fault Date'] > combined_data_non['Completion Date']) | (combined_data_non['Fault Date'] < combined_data_non['Received Date'])]"
   ]
  },
  {
   "cell_type": "code",
   "execution_count": 47,
   "metadata": {},
   "outputs": [],
   "source": [
    "combined_data_non['row'] = True\n",
    "\n",
    "non_msp_counts = combined_data_non[['Job Code', 'MSP', 'Pre', 'row']].groupby(['Job Code', 'MSP', 'Pre']).count().reset_index()"
   ]
  },
  {
   "cell_type": "code",
   "execution_count": 48,
   "metadata": {},
   "outputs": [],
   "source": [
    "non_corrosion = non_msp_counts[non_msp_counts['MSP'].isin(msp_interest)].query('Pre').drop('Pre', axis = 1).pivot(index = 'Job Code', columns = 'MSP', values = 'row').fillna(0.0).reset_index()\n",
    "\n",
    "non_corrosion['corrosion'] = False\n",
    "\n",
    "non_corrosion.drop('Job Code', axis = 1, inplace = True)"
   ]
  },
  {
   "cell_type": "markdown",
   "metadata": {},
   "source": [
    "Again due to the size of the data, we will take a random sample of the maintenance actions to combine with our corrosion maintenance actions."
   ]
  },
  {
   "cell_type": "code",
   "execution_count": 51,
   "metadata": {},
   "outputs": [],
   "source": [
    "non_corrosion = non_corrosion.sample(7000, axis = 0, random_state=35)"
   ]
  },
  {
   "cell_type": "markdown",
   "metadata": {},
   "source": [
    "Next we will combine the data into one file, save to a csv and use a few different Machine Learning algorithms to try to classify whether the maintenance action is for corrosion or not"
   ]
  },
  {
   "cell_type": "code",
   "execution_count": 54,
   "metadata": {},
   "outputs": [],
   "source": [
    "non_corrosion.append(corrosion).to_csv('../clean/predict_corrosive.csv', index = False)"
   ]
  },
  {
   "cell_type": "code",
   "execution_count": null,
   "metadata": {},
   "outputs": [],
   "source": []
  }
 ],
 "metadata": {
  "kernelspec": {
   "display_name": "Python 3",
   "language": "python",
   "name": "python3"
  },
  "language_info": {
   "codemirror_mode": {
    "name": "ipython",
    "version": 3
   },
   "file_extension": ".py",
   "mimetype": "text/x-python",
   "name": "python",
   "nbconvert_exporter": "python",
   "pygments_lexer": "ipython3",
   "version": "3.7.3"
  }
 },
 "nbformat": 4,
 "nbformat_minor": 2
}
